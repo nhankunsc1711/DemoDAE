{
  "cells": [
    {
      "cell_type": "code",
      "execution_count": 1,
      "metadata": {
        "id": "slL-oiedEilR"
      },
      "outputs": [],
      "source": [
        "import matplotlib.pyplot as plt\n",
        "import tensorflow as tf\n",
        "from tensorflow.keras import layers\n",
        "from tensorflow.keras.preprocessing.image import load_img\n",
        "import glob"
      ]
    },
    {
      "cell_type": "code",
      "execution_count": 2,
      "metadata": {},
      "outputs": [],
      "source": [
        "def preprocess_image(image_path, resize_dim=(32, 32), noise_factor=0.1):\n",
        "    # Load the image using load_img\n",
        "    image = load_img(image_path)\n",
        "\n",
        "    # Resize the image (adjust based on your model's input size)\n",
        "    image = tf.image.resize(image, resize_dim, method='nearest')  # TensorFlow operation for resizing\n",
        "\n",
        "    # Convert back to a tensor\n",
        "    image = tf.convert_to_tensor(image)\n",
        "\n",
        "    # Normalize pixel values\n",
        "    image = tf.cast(image, tf.float32) / 255.\n",
        "    return image"
      ]
    },
    {
      "cell_type": "code",
      "execution_count": 3,
      "metadata": {},
      "outputs": [
        {
          "name": "stderr",
          "output_type": "stream",
          "text": [
            "<>:2: SyntaxWarning: invalid escape sequence '\\D'\n",
            "<>:2: SyntaxWarning: invalid escape sequence '\\D'\n",
            "C:\\Users\\ASUS\\AppData\\Local\\Temp\\ipykernel_14040\\895022242.py:2: SyntaxWarning: invalid escape sequence '\\D'\n",
            "  celeba_path = \"E:\\Demo\\celeba\\img_align_celeba/\" # Replace with your data path\n"
          ]
        }
      ],
      "source": [
        "# Data preparation\n",
        "celeba_path = \"E:\\Demo\\celeba\\img_align_celeba/\" # Replace with your data path\n",
        "# Find all image files\n",
        "train_image_paths = glob.glob(celeba_path + '*.jpg')  # Modify for .png or other formats"
      ]
    },
    {
      "cell_type": "code",
      "execution_count": 4,
      "metadata": {
        "id": "o-RzZhGTLHgd"
      },
      "outputs": [],
      "source": [
        "# Preprocess images using the existing function\n",
        "train_images = [preprocess_image(path) for path in train_image_paths]\n",
        "train_images = tf.stack(train_images)"
      ]
    },
    {
      "cell_type": "code",
      "execution_count": 22,
      "metadata": {},
      "outputs": [
        {
          "name": "stderr",
          "output_type": "stream",
          "text": [
            "<>:2: SyntaxWarning: invalid escape sequence '\\D'\n",
            "<>:2: SyntaxWarning: invalid escape sequence '\\D'\n",
            "C:\\Users\\ASUS\\AppData\\Local\\Temp\\ipykernel_14040\\228395656.py:2: SyntaxWarning: invalid escape sequence '\\D'\n",
            "  test_image_path = 'E:\\Demo\\RGB.jpg' # Replace with your noisy image path\n"
          ]
        }
      ],
      "source": [
        "# Test image \n",
        "test_image_path = 'E:\\Demo\\RGB.jpg' # Replace with your noisy image path\n",
        "test_image = preprocess_image(test_image_path)\n",
        "# Add noise to the test image \n",
        "noise_factor = 0.1\n",
        "noise_test_image = test_image + noise_factor * tf.random.normal(shape=test_image.shape)\n",
        "# Clip noisy image values to be between 0 and 1 \n",
        "noise_test_image = tf.clip_by_value(noise_test_image, 0.0, 1.0)"
      ]
    },
    {
      "cell_type": "code",
      "execution_count": 6,
      "metadata": {
        "id": "X2zHINfKEuNV"
      },
      "outputs": [],
      "source": [
        "# Define the model architecture \n",
        "input_img = layers.Input(shape=(train_images.shape[1], train_images.shape[2], 3))  # Allow for RGB input"
      ]
    },
    {
      "cell_type": "code",
      "execution_count": 7,
      "metadata": {
        "id": "5j_RmaU4ExcK"
      },
      "outputs": [],
      "source": [
        "# Encoder \n",
        "x = layers.Conv2D(32, (3, 3), activation='relu', padding='same')(input_img)\n",
        "x = layers.MaxPooling2D((2, 2), padding='same')(x)\n",
        "x = layers.Conv2D(16, (3, 3), activation='relu', padding='same')(x)\n",
        "encoded = layers.MaxPooling2D((2, 2), padding='same')(x)"
      ]
    },
    {
      "cell_type": "code",
      "execution_count": 8,
      "metadata": {
        "id": "93-IsIxSE1CT"
      },
      "outputs": [],
      "source": [
        "# Decoder\n",
        "x = layers.Conv2D(16, (3, 3), activation='relu', padding='same')(encoded)\n",
        "x = layers.UpSampling2D((2, 2))(x)\n",
        "x = layers.Conv2D(32, (3, 3), activation='relu', padding='same')(x)\n",
        "x = layers.UpSampling2D((2, 2))(x)\n",
        "decoded = layers.Conv2D(3, (3, 3), padding='same')(x)  # Adjust for RGB"
      ]
    },
    {
      "cell_type": "code",
      "execution_count": 9,
      "metadata": {
        "id": "GJ5FJt1lE3jW"
      },
      "outputs": [],
      "source": [
        "# Define the autoencoder model\n",
        "autoencoder = tf.keras.Model(input_img, decoded)\n",
        "\n",
        "# Compile the model\n",
        "autoencoder.compile(optimizer='adam', loss='mse')  # Adjust for RGB"
      ]
    },
    {
      "cell_type": "code",
      "execution_count": 10,
      "metadata": {
        "colab": {
          "base_uri": "https://localhost:8080/"
        },
        "id": "nAZBWOjgE703",
        "outputId": "49b4a005-0faf-46bf-9564-7adb7477d66f"
      },
      "outputs": [
        {
          "name": "stdout",
          "output_type": "stream",
          "text": [
            "Epoch 1/10\n",
            "\u001b[1m6332/6332\u001b[0m \u001b[32m━━━━━━━━━━━━━━━━━━━━\u001b[0m\u001b[37m\u001b[0m \u001b[1m101s\u001b[0m 16ms/step - loss: 0.0148\n",
            "Epoch 2/10\n",
            "\u001b[1m6332/6332\u001b[0m \u001b[32m━━━━━━━━━━━━━━━━━━━━\u001b[0m\u001b[37m\u001b[0m \u001b[1m99s\u001b[0m 16ms/step - loss: 0.0078\n",
            "Epoch 3/10\n",
            "\u001b[1m6332/6332\u001b[0m \u001b[32m━━━━━━━━━━━━━━━━━━━━\u001b[0m\u001b[37m\u001b[0m \u001b[1m103s\u001b[0m 16ms/step - loss: 0.0068\n",
            "Epoch 4/10\n",
            "\u001b[1m6332/6332\u001b[0m \u001b[32m━━━━━━━━━━━━━━━━━━━━\u001b[0m\u001b[37m\u001b[0m \u001b[1m100s\u001b[0m 16ms/step - loss: 0.0064\n",
            "Epoch 5/10\n",
            "\u001b[1m6332/6332\u001b[0m \u001b[32m━━━━━━━━━━━━━━━━━━━━\u001b[0m\u001b[37m\u001b[0m \u001b[1m99s\u001b[0m 16ms/step - loss: 0.0062\n",
            "Epoch 6/10\n",
            "\u001b[1m6332/6332\u001b[0m \u001b[32m━━━━━━━━━━━━━━━━━━━━\u001b[0m\u001b[37m\u001b[0m \u001b[1m99s\u001b[0m 16ms/step - loss: 0.0061\n",
            "Epoch 7/10\n",
            "\u001b[1m6332/6332\u001b[0m \u001b[32m━━━━━━━━━━━━━━━━━━━━\u001b[0m\u001b[37m\u001b[0m \u001b[1m102s\u001b[0m 16ms/step - loss: 0.0060\n",
            "Epoch 8/10\n",
            "\u001b[1m6332/6332\u001b[0m \u001b[32m━━━━━━━━━━━━━━━━━━━━\u001b[0m\u001b[37m\u001b[0m \u001b[1m99s\u001b[0m 16ms/step - loss: 0.0059\n",
            "Epoch 9/10\n",
            "\u001b[1m6332/6332\u001b[0m \u001b[32m━━━━━━━━━━━━━━━━━━━━\u001b[0m\u001b[37m\u001b[0m \u001b[1m99s\u001b[0m 16ms/step - loss: 0.0058\n",
            "Epoch 10/10\n",
            "\u001b[1m6332/6332\u001b[0m \u001b[32m━━━━━━━━━━━━━━━━━━━━\u001b[0m\u001b[37m\u001b[0m \u001b[1m99s\u001b[0m 16ms/step - loss: 0.0058\n"
          ]
        },
        {
          "data": {
            "text/plain": [
              "<keras.src.callbacks.history.History at 0x1b956c24fb0>"
            ]
          },
          "execution_count": 10,
          "metadata": {},
          "output_type": "execute_result"
        }
      ],
      "source": [
        "# Train the model\n",
        "autoencoder.fit(train_images, train_images, epochs=10, batch_size=32)"
      ]
    },
    {
      "cell_type": "code",
      "execution_count": 23,
      "metadata": {
        "id": "w3pu-QnEK_iT"
      },
      "outputs": [
        {
          "name": "stdout",
          "output_type": "stream",
          "text": [
            "\u001b[1m1/1\u001b[0m \u001b[32m━━━━━━━━━━━━━━━━━━━━\u001b[0m\u001b[37m\u001b[0m \u001b[1m0s\u001b[0m 26ms/step\n"
          ]
        }
      ],
      "source": [
        "# Denoise the image\n",
        "denoised_img = autoencoder.predict(noise_test_image[tf.newaxis, ...])[0]"
      ]
    },
    {
      "cell_type": "code",
      "execution_count": 24,
      "metadata": {
        "id": "8e4uTWOKLBQh"
      },
      "outputs": [
        {
          "name": "stderr",
          "output_type": "stream",
          "text": [
            "Clipping input data to the valid range for imshow with RGB data ([0..1] for floats or [0..255] for integers).\n"
          ]
        },
        {
          "data": {
            "image/png": "[encoded data removed]",
            "text/plain": [
              "<Figure size 800x600 with 3 Axes>"
            ]
          },
          "metadata": {},
          "output_type": "display_data"
        }
      ],
      "source": [
        "# Display the original, noisy, and denoised images\n",
        "plt.figure(figsize=(8, 6))\n",
        "plt.subplot(131)\n",
        "plt.imshow(test_image, cmap='gray')\n",
        "plt.title('Original Image')\n",
        "plt.subplot(132)\n",
        "plt.imshow(noise_test_image, cmap='gray')\n",
        "plt.title('Image After Add Noise')\n",
        "plt.subplot(133)\n",
        "plt.imshow(denoised_img.squeeze(), cmap='gray')\n",
        "plt.title('Denoised Image')\n",
        "plt.tight_layout()\n",
        "plt.show()"
      ]
    }
  ],
  "metadata": {
    "colab": {
      "provenance": []
    },
    "kernelspec": {
      "display_name": "Python 3",
      "name": "python3"
    },
    "language_info": {
      "codemirror_mode": {
        "name": "ipython",
        "version": 3
      },
      "file_extension": ".py",
      "mimetype": "text/x-python",
      "name": "python",
      "nbconvert_exporter": "python",
      "pygments_lexer": "ipython3",
      "version": "3.12.2"
    }
  },
  "nbformat": 4,
  "nbformat_minor": 0
}
